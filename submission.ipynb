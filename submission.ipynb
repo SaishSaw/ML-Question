{
 "cells": [
  {
   "cell_type": "code",
   "execution_count": 1,
   "metadata": {},
   "outputs": [
    {
     "name": "stderr",
     "output_type": "stream",
     "text": [
      "d:\\Python\\jupyterlab-dist\\Lib\\site-packages\\sentence_transformers\\cross_encoder\\CrossEncoder.py:11: TqdmExperimentalWarning: Using `tqdm.autonotebook.tqdm` in notebook mode. Use `tqdm.tqdm` instead to force console mode (e.g. in jupyter console)\n",
      "  from tqdm.autonotebook import tqdm, trange\n"
     ]
    }
   ],
   "source": [
    "# importing all necessary libraries\n",
    "\n",
    "import pandas as pd\n",
    "import numpy as np\n",
    "import plotly.express as px\n",
    "import spacy\n",
    "from sentence_transformers import SentenceTransformer"
   ]
  },
  {
   "cell_type": "code",
   "execution_count": 2,
   "metadata": {},
   "outputs": [
    {
     "data": {
      "text/html": [
       "<div>\n",
       "<style scoped>\n",
       "    .dataframe tbody tr th:only-of-type {\n",
       "        vertical-align: middle;\n",
       "    }\n",
       "\n",
       "    .dataframe tbody tr th {\n",
       "        vertical-align: top;\n",
       "    }\n",
       "\n",
       "    .dataframe thead th {\n",
       "        text-align: right;\n",
       "    }\n",
       "</style>\n",
       "<table border=\"1\" class=\"dataframe\">\n",
       "  <thead>\n",
       "    <tr style=\"text-align: right;\">\n",
       "      <th></th>\n",
       "      <th>articleBody</th>\n",
       "      <th>dateModified</th>\n",
       "      <th>scrapedDate</th>\n",
       "      <th>source</th>\n",
       "      <th>title</th>\n",
       "    </tr>\n",
       "  </thead>\n",
       "  <tbody>\n",
       "    <tr>\n",
       "      <th>0</th>\n",
       "      <td>Sanjay Raut, a member of the Shiv Sena (UBT) p...</td>\n",
       "      <td>{'$date': '2023-10-25T06:35:50.000Z'}</td>\n",
       "      <td>{'$date': '2023-10-27T13:12:18.339Z'}</td>\n",
       "      <td>https://www.thehansindia.com/</td>\n",
       "      <td>Shiv Sena MP Sanjay Raut Responds To 'Hamas' R...</td>\n",
       "    </tr>\n",
       "    <tr>\n",
       "      <th>1</th>\n",
       "      <td>Kozhikode (Kerala) [India], October 27 (ANI): ...</td>\n",
       "      <td>NaN</td>\n",
       "      <td>{'$date': '2023-10-27T13:12:45.595Z'}</td>\n",
       "      <td>https://www.aninews.in/</td>\n",
       "      <td>At IUML's pro-Palestine rally in Kerala Tharoo...</td>\n",
       "    </tr>\n",
       "    <tr>\n",
       "      <th>2</th>\n",
       "      <td>Mumbai, Oct 24 (PTI) Maharashtra Chief Ministe...</td>\n",
       "      <td>{'$date': '2023-10-25T02:14:27.000Z'}</td>\n",
       "      <td>{'$date': '2023-10-27T13:12:18.339Z'}</td>\n",
       "      <td>https://thefederal.com/</td>\n",
       "      <td>Uddhav buried Bal Thackeray's 'Hindutva' for p...</td>\n",
       "    </tr>\n",
       "    <tr>\n",
       "      <th>3</th>\n",
       "      <td>Sensex, Nifty rebound over 1 pc after six sess...</td>\n",
       "      <td>NaN</td>\n",
       "      <td>{'$date': '2023-10-27T13:12:41.618Z'}</td>\n",
       "      <td>https://english.varthabharati.in/</td>\n",
       "      <td>New Bills replacing IPC, CrPC, Evidence Act wi...</td>\n",
       "    </tr>\n",
       "    <tr>\n",
       "      <th>4</th>\n",
       "      <td>October 26, 2023 08:15 pm | Updated 08:38 pm I...</td>\n",
       "      <td>{'$date': '2023-10-26T14:45:24.000Z'}</td>\n",
       "      <td>{'$date': '2023-10-27T13:12:45.595Z'}</td>\n",
       "      <td>https://www.thehindu.com/</td>\n",
       "      <td>Israel biggest terrorist nation in the world, ...</td>\n",
       "    </tr>\n",
       "  </tbody>\n",
       "</table>\n",
       "</div>"
      ],
      "text/plain": [
       "                                         articleBody  \\\n",
       "0  Sanjay Raut, a member of the Shiv Sena (UBT) p...   \n",
       "1  Kozhikode (Kerala) [India], October 27 (ANI): ...   \n",
       "2  Mumbai, Oct 24 (PTI) Maharashtra Chief Ministe...   \n",
       "3  Sensex, Nifty rebound over 1 pc after six sess...   \n",
       "4  October 26, 2023 08:15 pm | Updated 08:38 pm I...   \n",
       "\n",
       "                            dateModified  \\\n",
       "0  {'$date': '2023-10-25T06:35:50.000Z'}   \n",
       "1                                    NaN   \n",
       "2  {'$date': '2023-10-25T02:14:27.000Z'}   \n",
       "3                                    NaN   \n",
       "4  {'$date': '2023-10-26T14:45:24.000Z'}   \n",
       "\n",
       "                             scrapedDate                             source  \\\n",
       "0  {'$date': '2023-10-27T13:12:18.339Z'}      https://www.thehansindia.com/   \n",
       "1  {'$date': '2023-10-27T13:12:45.595Z'}            https://www.aninews.in/   \n",
       "2  {'$date': '2023-10-27T13:12:18.339Z'}            https://thefederal.com/   \n",
       "3  {'$date': '2023-10-27T13:12:41.618Z'}  https://english.varthabharati.in/   \n",
       "4  {'$date': '2023-10-27T13:12:45.595Z'}          https://www.thehindu.com/   \n",
       "\n",
       "                                               title  \n",
       "0  Shiv Sena MP Sanjay Raut Responds To 'Hamas' R...  \n",
       "1  At IUML's pro-Palestine rally in Kerala Tharoo...  \n",
       "2  Uddhav buried Bal Thackeray's 'Hindutva' for p...  \n",
       "3  New Bills replacing IPC, CrPC, Evidence Act wi...  \n",
       "4  Israel biggest terrorist nation in the world, ...  "
      ]
     },
     "execution_count": 2,
     "metadata": {},
     "output_type": "execute_result"
    }
   ],
   "source": [
    "# Reading the data using pandas\n",
    "data = pd.read_json('news.article(2).json')\n",
    "data.head(5)"
   ]
  },
  {
   "cell_type": "code",
   "execution_count": 3,
   "metadata": {},
   "outputs": [
    {
     "data": {
      "text/plain": [
       "(37421, 5)"
      ]
     },
     "execution_count": 3,
     "metadata": {},
     "output_type": "execute_result"
    }
   ],
   "source": [
    "data.shape"
   ]
  },
  {
   "cell_type": "code",
   "execution_count": 4,
   "metadata": {},
   "outputs": [],
   "source": [
    "def clean_dates(x):\n",
    "    \"\"\"\"Returns datetime objects.\"\"\"\n",
    "    #print(x)\n",
    "    if type(x) is dict:\n",
    "        for key,val in x.items():\n",
    "            extract_val = x[key]\n",
    "            date_ = pd.to_datetime(extract_val)\n",
    "            return date_\n",
    "    else:\n",
    "        return x\n",
    "\n",
    "\n",
    "data['dateModified'] = data['dateModified'].apply(lambda x : clean_dates(x))\n",
    "data['scrapedDate'] = data['scrapedDate'].apply(lambda x : clean_dates(x))"
   ]
  },
  {
   "cell_type": "code",
   "execution_count": 5,
   "metadata": {},
   "outputs": [],
   "source": [
    "# dropping duplicates and NA values\n",
    "data.dropna(inplace=True)\n",
    "data.drop_duplicates(subset='dateModified',inplace=True)"
   ]
  },
  {
   "cell_type": "code",
   "execution_count": 6,
   "metadata": {},
   "outputs": [],
   "source": [
    "#data['dateModified'] = data['dateModified'].dt.date\n",
    "#data['scrapedDate'] = data['scrapedDate'].dt.date"
   ]
  },
  {
   "cell_type": "code",
   "execution_count": 7,
   "metadata": {},
   "outputs": [
    {
     "data": {
      "text/plain": [
       "dateModified\n",
       "2023-10-25 06:35:50+00:00    1\n",
       "2023-12-18 18:03:39+00:00    1\n",
       "2023-12-18 19:17:29+00:00    1\n",
       "2023-12-18 13:29:49+00:00    1\n",
       "2023-12-17 15:46:21+00:00    1\n",
       "                            ..\n",
       "2023-12-09 06:40:44+00:00    1\n",
       "2023-12-09 06:22:45+00:00    1\n",
       "2023-12-09 05:24:53+00:00    1\n",
       "2023-12-08 08:58:00+00:00    1\n",
       "2024-03-26 16:01:17+00:00    1\n",
       "Name: count, Length: 14985, dtype: int64"
      ]
     },
     "execution_count": 7,
     "metadata": {},
     "output_type": "execute_result"
    }
   ],
   "source": [
    "data['dateModified'].value_counts()"
   ]
  },
  {
   "cell_type": "code",
   "execution_count": 8,
   "metadata": {},
   "outputs": [
    {
     "name": "stdout",
     "output_type": "stream",
     "text": [
      "(5000, 5)\n",
      "(5000, 5)\n"
     ]
    }
   ],
   "source": [
    "data_sub_1 = data.iloc[0:5000,:]\n",
    "print(data_sub_1.shape)\n",
    "\n",
    "data_sub_2 = data.iloc[5001:10001,:]\n",
    "print(data_sub_2.shape)"
   ]
  },
  {
   "cell_type": "code",
   "execution_count": 9,
   "metadata": {},
   "outputs": [
    {
     "name": "stderr",
     "output_type": "stream",
     "text": [
      "d:\\Python\\jupyterlab-dist\\Lib\\site-packages\\huggingface_hub\\file_download.py:1132: FutureWarning: `resume_download` is deprecated and will be removed in version 1.0.0. Downloads always resume when possible. If you want to force a new download, use `force_download=True`.\n",
      "  warnings.warn(\n"
     ]
    }
   ],
   "source": [
    "def encode_vec(x,batch_size):\n",
    "    \"\"\"Returns vectors arrays\"\"\"\n",
    "    n_batches = (len(x))// batch_size\n",
    "\n",
    "    embeddings = []\n",
    "    for i in range(n_batches):\n",
    "\n",
    "        model = SentenceTransformer('paraphrase-MiniLM-L6-v2')\n",
    "        start_idx = i*batch_size\n",
    "        end_idx = min((i+1)*batch_size,len(x))\n",
    "        batch_text = x[start_idx:end_idx]\n",
    "        embedding = model.encode(batch_text)\n",
    "        embeddings.append(embedding)\n",
    "\n",
    "    return embeddings\n",
    "    \n",
    "\n",
    "embeddings_vec_1 = encode_vec(data_sub_1['title'].tolist(),1000)"
   ]
  },
  {
   "cell_type": "code",
   "execution_count": 10,
   "metadata": {},
   "outputs": [],
   "source": [
    "embeddings_vec_2 = encode_vec(data_sub_2['title'].tolist(),1000)"
   ]
  },
  {
   "cell_type": "code",
   "execution_count": 11,
   "metadata": {},
   "outputs": [
    {
     "name": "stdout",
     "output_type": "stream",
     "text": [
      "(5000, 384)\n",
      "(5000, 384)\n"
     ]
    }
   ],
   "source": [
    "final_embedding_1 = np.concatenate(embeddings_vec_1,axis=0)\n",
    "print(final_embedding_1.shape)\n",
    "\n",
    "final_embedding_2 = np.concatenate(embeddings_vec_2,axis=0)\n",
    "print(final_embedding_2.shape)"
   ]
  },
  {
   "cell_type": "code",
   "execution_count": 12,
   "metadata": {},
   "outputs": [
    {
     "data": {
      "text/plain": [
       "(10000, 384)"
      ]
     },
     "execution_count": 12,
     "metadata": {},
     "output_type": "execute_result"
    }
   ],
   "source": [
    "final_embedding = np.concatenate([final_embedding_1,final_embedding_2],axis=0)\n",
    "final_embedding.shape"
   ]
  },
  {
   "cell_type": "code",
   "execution_count": 13,
   "metadata": {},
   "outputs": [],
   "source": [
    "from sklearn.cluster import DBSCAN\n",
    "\n",
    "X = final_embedding\n",
    "dbscan = DBSCAN(eps = 0.1, min_samples = 3,metric = 'cosine').fit(X)"
   ]
  },
  {
   "cell_type": "code",
   "execution_count": 14,
   "metadata": {},
   "outputs": [
    {
     "data": {
      "text/plain": [
       "(10000, 5)"
      ]
     },
     "execution_count": 14,
     "metadata": {},
     "output_type": "execute_result"
    }
   ],
   "source": [
    "final_data = pd.concat([data_sub_1,data_sub_2],axis=0)\n",
    "final_data.shape"
   ]
  },
  {
   "cell_type": "code",
   "execution_count": 15,
   "metadata": {},
   "outputs": [
    {
     "data": {
      "text/html": [
       "<div>\n",
       "<style scoped>\n",
       "    .dataframe tbody tr th:only-of-type {\n",
       "        vertical-align: middle;\n",
       "    }\n",
       "\n",
       "    .dataframe tbody tr th {\n",
       "        vertical-align: top;\n",
       "    }\n",
       "\n",
       "    .dataframe thead th {\n",
       "        text-align: right;\n",
       "    }\n",
       "</style>\n",
       "<table border=\"1\" class=\"dataframe\">\n",
       "  <thead>\n",
       "    <tr style=\"text-align: right;\">\n",
       "      <th></th>\n",
       "      <th>articleBody</th>\n",
       "      <th>dateModified</th>\n",
       "      <th>scrapedDate</th>\n",
       "      <th>source</th>\n",
       "      <th>title</th>\n",
       "      <th>embedding</th>\n",
       "      <th>target</th>\n",
       "    </tr>\n",
       "  </thead>\n",
       "  <tbody>\n",
       "    <tr>\n",
       "      <th>0</th>\n",
       "      <td>Sanjay Raut, a member of the Shiv Sena (UBT) p...</td>\n",
       "      <td>2023-10-25 06:35:50+00:00</td>\n",
       "      <td>2023-10-27 13:12:18.339000+00:00</td>\n",
       "      <td>https://www.thehansindia.com/</td>\n",
       "      <td>Shiv Sena MP Sanjay Raut Responds To 'Hamas' R...</td>\n",
       "      <td>[-0.13344551622867584, 0.42215925455093384, 0....</td>\n",
       "      <td>-1</td>\n",
       "    </tr>\n",
       "    <tr>\n",
       "      <th>2</th>\n",
       "      <td>Mumbai, Oct 24 (PTI) Maharashtra Chief Ministe...</td>\n",
       "      <td>2023-10-25 02:14:27+00:00</td>\n",
       "      <td>2023-10-27 13:12:18.339000+00:00</td>\n",
       "      <td>https://thefederal.com/</td>\n",
       "      <td>Uddhav buried Bal Thackeray's 'Hindutva' for p...</td>\n",
       "      <td>[0.06483079493045807, 0.7982536554336548, -0.2...</td>\n",
       "      <td>-1</td>\n",
       "    </tr>\n",
       "    <tr>\n",
       "      <th>4</th>\n",
       "      <td>October 26, 2023 08:15 pm | Updated 08:38 pm I...</td>\n",
       "      <td>2023-10-26 14:45:24+00:00</td>\n",
       "      <td>2023-10-27 13:12:45.595000+00:00</td>\n",
       "      <td>https://www.thehindu.com/</td>\n",
       "      <td>Israel biggest terrorist nation in the world, ...</td>\n",
       "      <td>[0.12600095570087433, 0.592846155166626, -0.50...</td>\n",
       "      <td>-1</td>\n",
       "    </tr>\n",
       "    <tr>\n",
       "      <th>5</th>\n",
       "      <td>Eight former officers of the Indian Navy have ...</td>\n",
       "      <td>2023-10-26 11:22:00+00:00</td>\n",
       "      <td>2023-10-27 13:12:47.852000+00:00</td>\n",
       "      <td>https://english.jagran.com/</td>\n",
       "      <td>Eight Ex-Indian Navy Officers Get Death Penalt...</td>\n",
       "      <td>[0.5108010768890381, 0.21970635652542114, -0.0...</td>\n",
       "      <td>-1</td>\n",
       "    </tr>\n",
       "    <tr>\n",
       "      <th>6</th>\n",
       "      <td>October 26, 2023 07:21 pm | Updated October 27...</td>\n",
       "      <td>2023-10-26 13:51:52+00:00</td>\n",
       "      <td>2023-10-27 13:12:45.595000+00:00</td>\n",
       "      <td>https://www.thehindu.com/</td>\n",
       "      <td>Israel’s response to Hamas terrorist attack di...</td>\n",
       "      <td>[-0.2768397629261017, 0.5264230966567993, 0.16...</td>\n",
       "      <td>-1</td>\n",
       "    </tr>\n",
       "  </tbody>\n",
       "</table>\n",
       "</div>"
      ],
      "text/plain": [
       "                                         articleBody  \\\n",
       "0  Sanjay Raut, a member of the Shiv Sena (UBT) p...   \n",
       "2  Mumbai, Oct 24 (PTI) Maharashtra Chief Ministe...   \n",
       "4  October 26, 2023 08:15 pm | Updated 08:38 pm I...   \n",
       "5  Eight former officers of the Indian Navy have ...   \n",
       "6  October 26, 2023 07:21 pm | Updated October 27...   \n",
       "\n",
       "               dateModified                      scrapedDate  \\\n",
       "0 2023-10-25 06:35:50+00:00 2023-10-27 13:12:18.339000+00:00   \n",
       "2 2023-10-25 02:14:27+00:00 2023-10-27 13:12:18.339000+00:00   \n",
       "4 2023-10-26 14:45:24+00:00 2023-10-27 13:12:45.595000+00:00   \n",
       "5 2023-10-26 11:22:00+00:00 2023-10-27 13:12:47.852000+00:00   \n",
       "6 2023-10-26 13:51:52+00:00 2023-10-27 13:12:45.595000+00:00   \n",
       "\n",
       "                          source  \\\n",
       "0  https://www.thehansindia.com/   \n",
       "2        https://thefederal.com/   \n",
       "4      https://www.thehindu.com/   \n",
       "5    https://english.jagran.com/   \n",
       "6      https://www.thehindu.com/   \n",
       "\n",
       "                                               title  \\\n",
       "0  Shiv Sena MP Sanjay Raut Responds To 'Hamas' R...   \n",
       "2  Uddhav buried Bal Thackeray's 'Hindutva' for p...   \n",
       "4  Israel biggest terrorist nation in the world, ...   \n",
       "5  Eight Ex-Indian Navy Officers Get Death Penalt...   \n",
       "6  Israel’s response to Hamas terrorist attack di...   \n",
       "\n",
       "                                           embedding  target  \n",
       "0  [-0.13344551622867584, 0.42215925455093384, 0....      -1  \n",
       "2  [0.06483079493045807, 0.7982536554336548, -0.2...      -1  \n",
       "4  [0.12600095570087433, 0.592846155166626, -0.50...      -1  \n",
       "5  [0.5108010768890381, 0.21970635652542114, -0.0...      -1  \n",
       "6  [-0.2768397629261017, 0.5264230966567993, 0.16...      -1  "
      ]
     },
     "execution_count": 15,
     "metadata": {},
     "output_type": "execute_result"
    }
   ],
   "source": [
    "final_data['embedding'] = final_embedding.tolist()\n",
    "final_data['target'] = dbscan.labels_\n",
    "\n",
    "final_data.head(5)"
   ]
  },
  {
   "cell_type": "code",
   "execution_count": 16,
   "metadata": {},
   "outputs": [
    {
     "data": {
      "text/plain": [
       "target\n",
       "-1      8559\n",
       " 229      23\n",
       " 238      23\n",
       " 306      16\n",
       " 17       16\n",
       "        ... \n",
       " 141       3\n",
       " 147       3\n",
       " 148       3\n",
       " 154       3\n",
       " 317       3\n",
       "Name: count, Length: 319, dtype: int64"
      ]
     },
     "execution_count": 16,
     "metadata": {},
     "output_type": "execute_result"
    }
   ],
   "source": [
    "final_data.target.value_counts()"
   ]
  },
  {
   "cell_type": "code",
   "execution_count": 17,
   "metadata": {},
   "outputs": [],
   "source": [
    "def compute_center(embeddings,labels):\n",
    "    unique_labels = set(labels)\n",
    "    cluster_centre = {}\n",
    "    for label in unique_labels:\n",
    "        if label != -1:\n",
    "            cluster_points = embeddings[labels==label]\n",
    "            cluster_centre[label] = cluster_points.mean(axis=0)\n",
    "    return cluster_centre\n",
    "\n",
    "\n",
    "cluster_center = compute_center(final_embedding,final_data['target'])"
   ]
  },
  {
   "cell_type": "code",
   "execution_count": 18,
   "metadata": {},
   "outputs": [],
   "source": [
    "from sklearn.metrics.pairwise import cosine_similarity\n",
    "\n",
    "\n",
    "def select_representative(data,embeddings,cluster_centers):\n",
    "    representative = []\n",
    "    for label,center in cluster_centers.items():\n",
    "        cluster_data = data.loc[data['target']==label]\n",
    "        cluster_embedding = embeddings[data['target'] == label]\n",
    "\n",
    "        similarities = cosine_similarity(cluster_embedding, center.reshape(1,-1)).flatten()\n",
    "        most_similarities_idx = similarities.argmax()\n",
    "        representative.append(cluster_data.iloc[most_similarities_idx])\n",
    "\n",
    "    return pd.DataFrame(representative)\n",
    "\n",
    "\n",
    "selected_articles = select_representative(final_data,final_embedding,cluster_center)"
   ]
  },
  {
   "cell_type": "code",
   "execution_count": 19,
   "metadata": {},
   "outputs": [
    {
     "data": {
      "text/plain": [
       "<DatetimeArray>\n",
       "['2023-10-20 10:44:11+00:00', '2023-10-26 04:00:35+00:00',\n",
       " '2023-10-24 11:42:02+00:00', '2023-10-27 11:12:09+00:00',\n",
       " '2023-10-24 05:45:50+00:00', '2023-10-25 11:47:00+00:00',\n",
       " '2023-10-27 02:42:40+00:00', '2023-10-22 07:34:03+00:00',\n",
       " '2023-10-22 16:30:00+00:00', '2023-10-27 06:40:21+00:00',\n",
       " ...\n",
       " '2023-12-18 12:54:49+00:00', '2023-12-17 14:07:19+00:00',\n",
       " '2023-12-17 23:02:02+00:00', '2023-12-17 17:55:07+00:00',\n",
       " '2023-12-17 20:43:42+00:00', '2023-12-17 18:45:14+00:00',\n",
       " '2023-12-18 10:20:32+00:00', '2023-12-18 11:26:00+00:00',\n",
       " '2023-12-18 06:38:29+00:00', '2023-12-18 14:43:30+00:00']\n",
       "Length: 318, dtype: datetime64[ns, UTC]"
      ]
     },
     "execution_count": 19,
     "metadata": {},
     "output_type": "execute_result"
    }
   ],
   "source": [
    "selected_articles.dateModified.unique()"
   ]
  },
  {
   "cell_type": "code",
   "execution_count": 23,
   "metadata": {},
   "outputs": [
    {
     "data": {
      "application/vnd.plotly.v1+json": {
       "config": {
        "plotlyServerURL": "https://plot.ly"
       },
       "data": [
        {
         "mode": "text",
         "text": [
          "History of the Israel-Palestine conflict – Part 1 (Origins) | In Focus podcast",
          "October 26, 2023 Israel-Hamas war",
          "A Deeper Look: Why International Law Failed to Prevent Harm to Civilians – Part 2",
          "French President Emmanuel Macron arrives in Israel",
          "Iran's Khamenei says US 'directing' Israel bombing of Gaza",
          "India Sends Humanitarian Aid To Gaza Amid Ongoing Israel Hamas Conflict",
          "US concerned over escalating attacks on Americans across Middle East",
          "Israel-Hamas War: Israel Defence Forces Says It Struck Over 400 Terrorist Targets in Past 24 Hours",
          "Hezbollah and Israel exchange fire and warnings of a widened war",
          "Russia, China veto US resolution for UN action on Israel, Gaza"
         ],
         "textposition": "top center",
         "type": "scatter",
         "x": [
          1,
          1,
          1,
          1,
          1,
          1,
          1,
          1,
          1,
          1
         ],
         "y": [
          "2023-10-20T10:44:11+00:00",
          "2023-10-26T04:00:35+00:00",
          "2023-10-24T11:42:02+00:00",
          "2023-10-24T05:45:50+00:00",
          "2023-10-25T11:47:00+00:00",
          "2023-10-22T07:34:03+00:00",
          "2023-10-22T16:30:00+00:00",
          "2023-10-24T07:00:20+00:00",
          "2023-10-22T15:49:13+00:00",
          "2023-10-26T02:30:46+00:00"
         ]
        }
       ],
       "layout": {
        "height": 1200,
        "template": {
         "data": {
          "bar": [
           {
            "error_x": {
             "color": "#2a3f5f"
            },
            "error_y": {
             "color": "#2a3f5f"
            },
            "marker": {
             "line": {
              "color": "#E5ECF6",
              "width": 0.5
             },
             "pattern": {
              "fillmode": "overlay",
              "size": 10,
              "solidity": 0.2
             }
            },
            "type": "bar"
           }
          ],
          "barpolar": [
           {
            "marker": {
             "line": {
              "color": "#E5ECF6",
              "width": 0.5
             },
             "pattern": {
              "fillmode": "overlay",
              "size": 10,
              "solidity": 0.2
             }
            },
            "type": "barpolar"
           }
          ],
          "carpet": [
           {
            "aaxis": {
             "endlinecolor": "#2a3f5f",
             "gridcolor": "white",
             "linecolor": "white",
             "minorgridcolor": "white",
             "startlinecolor": "#2a3f5f"
            },
            "baxis": {
             "endlinecolor": "#2a3f5f",
             "gridcolor": "white",
             "linecolor": "white",
             "minorgridcolor": "white",
             "startlinecolor": "#2a3f5f"
            },
            "type": "carpet"
           }
          ],
          "choropleth": [
           {
            "colorbar": {
             "outlinewidth": 0,
             "ticks": ""
            },
            "type": "choropleth"
           }
          ],
          "contour": [
           {
            "colorbar": {
             "outlinewidth": 0,
             "ticks": ""
            },
            "colorscale": [
             [
              0,
              "#0d0887"
             ],
             [
              0.1111111111111111,
              "#46039f"
             ],
             [
              0.2222222222222222,
              "#7201a8"
             ],
             [
              0.3333333333333333,
              "#9c179e"
             ],
             [
              0.4444444444444444,
              "#bd3786"
             ],
             [
              0.5555555555555556,
              "#d8576b"
             ],
             [
              0.6666666666666666,
              "#ed7953"
             ],
             [
              0.7777777777777778,
              "#fb9f3a"
             ],
             [
              0.8888888888888888,
              "#fdca26"
             ],
             [
              1,
              "#f0f921"
             ]
            ],
            "type": "contour"
           }
          ],
          "contourcarpet": [
           {
            "colorbar": {
             "outlinewidth": 0,
             "ticks": ""
            },
            "type": "contourcarpet"
           }
          ],
          "heatmap": [
           {
            "colorbar": {
             "outlinewidth": 0,
             "ticks": ""
            },
            "colorscale": [
             [
              0,
              "#0d0887"
             ],
             [
              0.1111111111111111,
              "#46039f"
             ],
             [
              0.2222222222222222,
              "#7201a8"
             ],
             [
              0.3333333333333333,
              "#9c179e"
             ],
             [
              0.4444444444444444,
              "#bd3786"
             ],
             [
              0.5555555555555556,
              "#d8576b"
             ],
             [
              0.6666666666666666,
              "#ed7953"
             ],
             [
              0.7777777777777778,
              "#fb9f3a"
             ],
             [
              0.8888888888888888,
              "#fdca26"
             ],
             [
              1,
              "#f0f921"
             ]
            ],
            "type": "heatmap"
           }
          ],
          "heatmapgl": [
           {
            "colorbar": {
             "outlinewidth": 0,
             "ticks": ""
            },
            "colorscale": [
             [
              0,
              "#0d0887"
             ],
             [
              0.1111111111111111,
              "#46039f"
             ],
             [
              0.2222222222222222,
              "#7201a8"
             ],
             [
              0.3333333333333333,
              "#9c179e"
             ],
             [
              0.4444444444444444,
              "#bd3786"
             ],
             [
              0.5555555555555556,
              "#d8576b"
             ],
             [
              0.6666666666666666,
              "#ed7953"
             ],
             [
              0.7777777777777778,
              "#fb9f3a"
             ],
             [
              0.8888888888888888,
              "#fdca26"
             ],
             [
              1,
              "#f0f921"
             ]
            ],
            "type": "heatmapgl"
           }
          ],
          "histogram": [
           {
            "marker": {
             "pattern": {
              "fillmode": "overlay",
              "size": 10,
              "solidity": 0.2
             }
            },
            "type": "histogram"
           }
          ],
          "histogram2d": [
           {
            "colorbar": {
             "outlinewidth": 0,
             "ticks": ""
            },
            "colorscale": [
             [
              0,
              "#0d0887"
             ],
             [
              0.1111111111111111,
              "#46039f"
             ],
             [
              0.2222222222222222,
              "#7201a8"
             ],
             [
              0.3333333333333333,
              "#9c179e"
             ],
             [
              0.4444444444444444,
              "#bd3786"
             ],
             [
              0.5555555555555556,
              "#d8576b"
             ],
             [
              0.6666666666666666,
              "#ed7953"
             ],
             [
              0.7777777777777778,
              "#fb9f3a"
             ],
             [
              0.8888888888888888,
              "#fdca26"
             ],
             [
              1,
              "#f0f921"
             ]
            ],
            "type": "histogram2d"
           }
          ],
          "histogram2dcontour": [
           {
            "colorbar": {
             "outlinewidth": 0,
             "ticks": ""
            },
            "colorscale": [
             [
              0,
              "#0d0887"
             ],
             [
              0.1111111111111111,
              "#46039f"
             ],
             [
              0.2222222222222222,
              "#7201a8"
             ],
             [
              0.3333333333333333,
              "#9c179e"
             ],
             [
              0.4444444444444444,
              "#bd3786"
             ],
             [
              0.5555555555555556,
              "#d8576b"
             ],
             [
              0.6666666666666666,
              "#ed7953"
             ],
             [
              0.7777777777777778,
              "#fb9f3a"
             ],
             [
              0.8888888888888888,
              "#fdca26"
             ],
             [
              1,
              "#f0f921"
             ]
            ],
            "type": "histogram2dcontour"
           }
          ],
          "mesh3d": [
           {
            "colorbar": {
             "outlinewidth": 0,
             "ticks": ""
            },
            "type": "mesh3d"
           }
          ],
          "parcoords": [
           {
            "line": {
             "colorbar": {
              "outlinewidth": 0,
              "ticks": ""
             }
            },
            "type": "parcoords"
           }
          ],
          "pie": [
           {
            "automargin": true,
            "type": "pie"
           }
          ],
          "scatter": [
           {
            "fillpattern": {
             "fillmode": "overlay",
             "size": 10,
             "solidity": 0.2
            },
            "type": "scatter"
           }
          ],
          "scatter3d": [
           {
            "line": {
             "colorbar": {
              "outlinewidth": 0,
              "ticks": ""
             }
            },
            "marker": {
             "colorbar": {
              "outlinewidth": 0,
              "ticks": ""
             }
            },
            "type": "scatter3d"
           }
          ],
          "scattercarpet": [
           {
            "marker": {
             "colorbar": {
              "outlinewidth": 0,
              "ticks": ""
             }
            },
            "type": "scattercarpet"
           }
          ],
          "scattergeo": [
           {
            "marker": {
             "colorbar": {
              "outlinewidth": 0,
              "ticks": ""
             }
            },
            "type": "scattergeo"
           }
          ],
          "scattergl": [
           {
            "marker": {
             "colorbar": {
              "outlinewidth": 0,
              "ticks": ""
             }
            },
            "type": "scattergl"
           }
          ],
          "scattermapbox": [
           {
            "marker": {
             "colorbar": {
              "outlinewidth": 0,
              "ticks": ""
             }
            },
            "type": "scattermapbox"
           }
          ],
          "scatterpolar": [
           {
            "marker": {
             "colorbar": {
              "outlinewidth": 0,
              "ticks": ""
             }
            },
            "type": "scatterpolar"
           }
          ],
          "scatterpolargl": [
           {
            "marker": {
             "colorbar": {
              "outlinewidth": 0,
              "ticks": ""
             }
            },
            "type": "scatterpolargl"
           }
          ],
          "scatterternary": [
           {
            "marker": {
             "colorbar": {
              "outlinewidth": 0,
              "ticks": ""
             }
            },
            "type": "scatterternary"
           }
          ],
          "surface": [
           {
            "colorbar": {
             "outlinewidth": 0,
             "ticks": ""
            },
            "colorscale": [
             [
              0,
              "#0d0887"
             ],
             [
              0.1111111111111111,
              "#46039f"
             ],
             [
              0.2222222222222222,
              "#7201a8"
             ],
             [
              0.3333333333333333,
              "#9c179e"
             ],
             [
              0.4444444444444444,
              "#bd3786"
             ],
             [
              0.5555555555555556,
              "#d8576b"
             ],
             [
              0.6666666666666666,
              "#ed7953"
             ],
             [
              0.7777777777777778,
              "#fb9f3a"
             ],
             [
              0.8888888888888888,
              "#fdca26"
             ],
             [
              1,
              "#f0f921"
             ]
            ],
            "type": "surface"
           }
          ],
          "table": [
           {
            "cells": {
             "fill": {
              "color": "#EBF0F8"
             },
             "line": {
              "color": "white"
             }
            },
            "header": {
             "fill": {
              "color": "#C8D4E3"
             },
             "line": {
              "color": "white"
             }
            },
            "type": "table"
           }
          ]
         },
         "layout": {
          "annotationdefaults": {
           "arrowcolor": "#2a3f5f",
           "arrowhead": 0,
           "arrowwidth": 1
          },
          "autotypenumbers": "strict",
          "coloraxis": {
           "colorbar": {
            "outlinewidth": 0,
            "ticks": ""
           }
          },
          "colorscale": {
           "diverging": [
            [
             0,
             "#8e0152"
            ],
            [
             0.1,
             "#c51b7d"
            ],
            [
             0.2,
             "#de77ae"
            ],
            [
             0.3,
             "#f1b6da"
            ],
            [
             0.4,
             "#fde0ef"
            ],
            [
             0.5,
             "#f7f7f7"
            ],
            [
             0.6,
             "#e6f5d0"
            ],
            [
             0.7,
             "#b8e186"
            ],
            [
             0.8,
             "#7fbc41"
            ],
            [
             0.9,
             "#4d9221"
            ],
            [
             1,
             "#276419"
            ]
           ],
           "sequential": [
            [
             0,
             "#0d0887"
            ],
            [
             0.1111111111111111,
             "#46039f"
            ],
            [
             0.2222222222222222,
             "#7201a8"
            ],
            [
             0.3333333333333333,
             "#9c179e"
            ],
            [
             0.4444444444444444,
             "#bd3786"
            ],
            [
             0.5555555555555556,
             "#d8576b"
            ],
            [
             0.6666666666666666,
             "#ed7953"
            ],
            [
             0.7777777777777778,
             "#fb9f3a"
            ],
            [
             0.8888888888888888,
             "#fdca26"
            ],
            [
             1,
             "#f0f921"
            ]
           ],
           "sequentialminus": [
            [
             0,
             "#0d0887"
            ],
            [
             0.1111111111111111,
             "#46039f"
            ],
            [
             0.2222222222222222,
             "#7201a8"
            ],
            [
             0.3333333333333333,
             "#9c179e"
            ],
            [
             0.4444444444444444,
             "#bd3786"
            ],
            [
             0.5555555555555556,
             "#d8576b"
            ],
            [
             0.6666666666666666,
             "#ed7953"
            ],
            [
             0.7777777777777778,
             "#fb9f3a"
            ],
            [
             0.8888888888888888,
             "#fdca26"
            ],
            [
             1,
             "#f0f921"
            ]
           ]
          },
          "colorway": [
           "#636efa",
           "#EF553B",
           "#00cc96",
           "#ab63fa",
           "#FFA15A",
           "#19d3f3",
           "#FF6692",
           "#B6E880",
           "#FF97FF",
           "#FECB52"
          ],
          "font": {
           "color": "#2a3f5f"
          },
          "geo": {
           "bgcolor": "white",
           "lakecolor": "white",
           "landcolor": "#E5ECF6",
           "showlakes": true,
           "showland": true,
           "subunitcolor": "white"
          },
          "hoverlabel": {
           "align": "left"
          },
          "hovermode": "closest",
          "mapbox": {
           "style": "light"
          },
          "paper_bgcolor": "white",
          "plot_bgcolor": "#E5ECF6",
          "polar": {
           "angularaxis": {
            "gridcolor": "white",
            "linecolor": "white",
            "ticks": ""
           },
           "bgcolor": "#E5ECF6",
           "radialaxis": {
            "gridcolor": "white",
            "linecolor": "white",
            "ticks": ""
           }
          },
          "scene": {
           "xaxis": {
            "backgroundcolor": "#E5ECF6",
            "gridcolor": "white",
            "gridwidth": 2,
            "linecolor": "white",
            "showbackground": true,
            "ticks": "",
            "zerolinecolor": "white"
           },
           "yaxis": {
            "backgroundcolor": "#E5ECF6",
            "gridcolor": "white",
            "gridwidth": 2,
            "linecolor": "white",
            "showbackground": true,
            "ticks": "",
            "zerolinecolor": "white"
           },
           "zaxis": {
            "backgroundcolor": "#E5ECF6",
            "gridcolor": "white",
            "gridwidth": 2,
            "linecolor": "white",
            "showbackground": true,
            "ticks": "",
            "zerolinecolor": "white"
           }
          },
          "shapedefaults": {
           "line": {
            "color": "#2a3f5f"
           }
          },
          "ternary": {
           "aaxis": {
            "gridcolor": "white",
            "linecolor": "white",
            "ticks": ""
           },
           "baxis": {
            "gridcolor": "white",
            "linecolor": "white",
            "ticks": ""
           },
           "bgcolor": "#E5ECF6",
           "caxis": {
            "gridcolor": "white",
            "linecolor": "white",
            "ticks": ""
           }
          },
          "title": {
           "x": 0.05
          },
          "xaxis": {
           "automargin": true,
           "gridcolor": "white",
           "linecolor": "white",
           "ticks": "",
           "title": {
            "standoff": 15
           },
           "zerolinecolor": "white",
           "zerolinewidth": 2
          },
          "yaxis": {
           "automargin": true,
           "gridcolor": "white",
           "linecolor": "white",
           "ticks": "",
           "title": {
            "standoff": 15
           },
           "zerolinecolor": "white",
           "zerolinewidth": 2
          }
         }
        },
        "width": 800,
        "xaxis": {
         "title": {
          "text": "Events"
         }
        },
        "yaxis": {
         "tickmode": "array",
         "tickvals": [
          0,
          1,
          2,
          3,
          4,
          5,
          6,
          7,
          8,
          9
         ],
         "title": {
          "text": "Date"
         }
        }
       }
      }
     },
     "metadata": {},
     "output_type": "display_data"
    }
   ],
   "source": [
    "import plotly.express as px\n",
    "import plotly.graph_objects as go\n",
    "\n",
    "\n",
    "selected_articles['dateModified'] = pd.to_datetime(selected_articles['dateModified'])\n",
    "selected_articles['event_description'] = selected_articles['title'] + \" (\" + selected_articles['dateModified'].astype(str) + \")\"\n",
    "\n",
    "subset = selected_articles.loc[(selected_articles['dateModified'] >= '2023-10-20 10:44:11+0000')\n",
    "                               & (selected_articles['dateModified'] < '2023-10-26 06:40:21+00:00')]\n",
    "\n",
    "#Create timeline chart\n",
    "#fig = px.timeline(subset,x_start = 'dateModified', x_end = 'dateModified', y = 'title', title='Isreal-Hamas News')\n",
    "# Create the figure and add the scatter trace\n",
    "fig = go.Figure()\n",
    "fig.add_trace(go.Scatter(\n",
    "    y=subset['dateModified'],\n",
    "    x=[1]*(subset['title'].shape[0]),\n",
    "    mode=\"text\",\n",
    "    text=subset['title'],\n",
    "    textposition=\"top center\"\n",
    "))\n",
    "#Customize layout\n",
    "fig.update_layout(\n",
    "    yaxis_title = 'Date',\n",
    "    xaxis_title = 'Events',\n",
    "    yaxis= dict(tickmode='array', tickvals=[i for i in range((subset.shape[0]))]),\n",
    "    #yaxis=dict(\n",
    "        #tickformat='%Y-%m-%d %H:%M:%S',  # Format the date\n",
    "        #dtick=86400000\n",
    "    #),\n",
    "    width=800,  \n",
    "    height=1200,\n",
    "     \n",
    ")\n",
    "\n",
    "\n",
    "fig.show()"
   ]
  },
  {
   "cell_type": "code",
   "execution_count": null,
   "metadata": {},
   "outputs": [],
   "source": []
  }
 ],
 "metadata": {
  "kernelspec": {
   "display_name": "jupyterlab-dist",
   "language": "python",
   "name": "python3"
  },
  "language_info": {
   "codemirror_mode": {
    "name": "ipython",
    "version": 3
   },
   "file_extension": ".py",
   "mimetype": "text/x-python",
   "name": "python",
   "nbconvert_exporter": "python",
   "pygments_lexer": "ipython3",
   "version": "3.11.9"
  }
 },
 "nbformat": 4,
 "nbformat_minor": 2
}
